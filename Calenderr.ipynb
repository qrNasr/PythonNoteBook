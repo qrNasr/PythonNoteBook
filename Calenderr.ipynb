{
 "cells": [
  {
   "cell_type": "code",
   "execution_count": null,
   "metadata": {},
   "outputs": [],
   "source": [
    "import calendar\n",
    "calendar.setfirstweekday(calendar.SUNDAY)\n"
   ]
  },
  {
   "cell_type": "code",
   "execution_count": null,
   "metadata": {},
   "outputs": [],
   "source": [
    "calendar.weekday(2022,12,12)"
   ]
  },
  {
   "cell_type": "code",
   "execution_count": null,
   "metadata": {},
   "outputs": [],
   "source": [
    "calendar.isleap(2025)"
   ]
  },
  {
   "cell_type": "code",
   "execution_count": null,
   "metadata": {},
   "outputs": [],
   "source": [
    "calendar.leapdays(2026,2027)"
   ]
  },
  {
   "cell_type": "code",
   "execution_count": null,
   "metadata": {},
   "outputs": [],
   "source": [
    "calendar.weekday(2023,12,14)"
   ]
  },
  {
   "cell_type": "code",
   "execution_count": null,
   "metadata": {},
   "outputs": [],
   "source": [
    "calendar.monthrange(2019,7)"
   ]
  },
  {
   "cell_type": "code",
   "execution_count": null,
   "metadata": {},
   "outputs": [],
   "source": [
    "calendar.monthcalendar(2022,7)"
   ]
  },
  {
   "cell_type": "code",
   "execution_count": null,
   "metadata": {},
   "outputs": [],
   "source": [
    "calendar.day_name --help"
   ]
  },
  {
   "cell_type": "markdown",
   "metadata": {},
   "source": [
    "not my code"
   ]
  },
  {
   "cell_type": "code",
   "execution_count": null,
   "metadata": {},
   "outputs": [],
   "source": [
    "async def _rashid_tibia(self):\n",
    "        \"\"\"Get Rashid's Location\"\"\"\n",
    "        current_date = date.today()\n",
    "        if calendar.day_name[current_date.weekday()] == \"Sunday\":\n",
    "            await self.bot.say(\"On Sundays you can find him in Carlin depot, one floor above.\")\n",
    "        elif calendar.day_name[current_date.weekday()] == \"Monday\":\n",
    "            await self.bot.say(\"On Mondays you can find him in Svargrond, in Dankwart's tavern, south of the temple.\")\n",
    "        elif calendar.day_name[current_date.weekday()] == \"Tuesday\":\n",
    "            await self.bot.say(\"On Tuesdays you can find him in Liberty Bay, in Lyonel's tavern, west of the depot.\")\n",
    "        elif calendar.day_name[current_date.weekday()] == \"Wednesday\":\n",
    "            await self.bot.say(\"On Wednesdays you can find him in Port Hope, in Clyde's tavern, north of the ship.\")\n",
    "        elif calendar.day_name[current_date.weekday()] == \"Thursday\":\n",
    "            await self.bot.say(\"On Thursdays you can find him in Ankrahmun, in Arito's tavern, above the post office.\")\n",
    "        elif calendar.day_name[current_date.weekday()] == \"Friday\":\n",
    "            await self.bot.say(\"On Fridays you can find him in Darashia, in Miraia's tavern, south of the guildhalls.\")\n",
    "        elif calendar.day_name[current_date.weekday()] == \"Saturday\":\n",
    "            await self.bot.say(\"On Saturdays you can find him in Edron, in Mirabell's tavern, above the depot.\")\n",
    "        else:\n",
    "            pass"
   ]
  },
  {
   "cell_type": "code",
   "execution_count": null,
   "metadata": {},
   "outputs": [],
   "source": [
    "# Python program to demonstrate working\n",
    "# of iterweekdays() method\n",
    "\n",
    "# importing calendar module\n",
    "import calendar\n",
    "\n",
    "# providing firstweekday = 0\n",
    "obj = calendar.Calendar(firstweekday = 0)\n",
    "\n",
    "for day in obj.iterweekdays():\n",
    "\tprint(day)\n"
   ]
  },
  {
   "cell_type": "code",
   "execution_count": null,
   "metadata": {},
   "outputs": [],
   "source": [
    "# Python program to demonstrate working\n",
    "# of iterweekdays() method\n",
    "\n",
    "# importing calendar module\n",
    "import calendar\n",
    "\n",
    "# providing firstweekday = 2\n",
    "obj = calendar.Calendar(firstweekday = 2)\n",
    "\n",
    "for day in obj.iterweekdays():\n",
    "\tprint(day)\n"
   ]
  },
  {
   "cell_type": "code",
   "execution_count": null,
   "metadata": {},
   "outputs": [],
   "source": [
    "# Python program to demonstrate working\n",
    "# of itermonthdays() method\n",
    "\n",
    "# importing calendar module\n",
    "import calendar\n",
    "\n",
    "year = 2018\n",
    "month = 9\n",
    "\n",
    "\n",
    "obj = calendar.Calendar()\n",
    "\n",
    "# iterating with itermonthdays\n",
    "for day in obj.itermonthdays(year, month):\n",
    "\tprint(day)\n"
   ]
  },
  {
   "cell_type": "code",
   "execution_count": null,
   "metadata": {},
   "outputs": [],
   "source": [
    "# Python program to demonstrate working\n",
    "# of itermonthdays() method\n",
    "\n",
    "# importing calendar module\n",
    "import calendar\n",
    "\n",
    "# use with firstweekday = 5\n",
    "obj = calendar.Calendar(firstweekday = 2)\n",
    "\n",
    "# iterating with itermonthdays\n",
    "for day in obj.itermonthdays(2018, 4):\n",
    "\tprint(day)\n"
   ]
  },
  {
   "cell_type": "code",
   "execution_count": null,
   "metadata": {},
   "outputs": [],
   "source": [
    "print(calendar.weekheader(1))"
   ]
  },
  {
   "cell_type": "code",
   "execution_count": null,
   "metadata": {},
   "outputs": [],
   "source": [
    "print(calendar.weekheader(2))"
   ]
  },
  {
   "cell_type": "code",
   "execution_count": null,
   "metadata": {},
   "outputs": [],
   "source": [
    "print(calendar.weekheader(3))"
   ]
  },
  {
   "cell_type": "code",
   "execution_count": null,
   "metadata": {},
   "outputs": [],
   "source": [
    "print(calendar.weekheader(4))"
   ]
  },
  {
   "cell_type": "code",
   "execution_count": null,
   "metadata": {},
   "outputs": [],
   "source": [
    "print(calendar.weekheader(5))"
   ]
  }
 ],
 "metadata": {
  "interpreter": {
   "hash": "e7370f93d1d0cde622a1f8e1c04877d8463912d04d973331ad4851f04de6915a"
  },
  "kernelspec": {
   "display_name": "Python 3.8.10 64-bit",
   "language": "python",
   "name": "python3"
  },
  "language_info": {
   "codemirror_mode": {
    "name": "ipython",
    "version": 3
   },
   "file_extension": ".py",
   "mimetype": "text/x-python",
   "name": "python",
   "nbconvert_exporter": "python",
   "pygments_lexer": "ipython3",
   "version": "3.8.10"
  },
  "orig_nbformat": 4
 },
 "nbformat": 4,
 "nbformat_minor": 2
}
