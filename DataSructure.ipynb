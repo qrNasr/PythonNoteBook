{
 "cells": [
  {
   "cell_type": "markdown",
   "metadata": {},
   "source": [
    "# List\n"
   ]
  },
  {
   "cell_type": "markdown",
   "metadata": {},
   "source": [
    "List is mutabale object\n"
   ]
  },
  {
   "cell_type": "code",
   "execution_count": null,
   "metadata": {},
   "outputs": [],
   "source": [
    "myList = [1, 2, 45, 13]\n",
    "print(myList)\n",
    "mylist2 = [1, 1.22, [\"orange\", 3]]\n",
    "print(mylist2)\n",
    "mylist3 = mylist2+myList\n",
    "print(mylist3)\n",
    "print(\"orange\" in mylist3)\n",
    "print(\"orange\" in mylist2)\n",
    "print(mylist3[1])\n",
    "print(mylist3[0])\n",
    "print(mylist3[3:-1])\n",
    "print(mylist3[:-3])\n",
    "for x in mylist3:  # iterate a list\n",
    "    (print(x))\n"
   ]
  },
  {
   "cell_type": "markdown",
   "metadata": {},
   "source": [
    "List Functions\n"
   ]
  },
  {
   "cell_type": "code",
   "execution_count": null,
   "metadata": {},
   "outputs": [],
   "source": [
    "lst = [1, 2, \"Apples\", \"Apples\"]*2\n",
    "print(lst)  # repeat list twice\n",
    "lst2 = [1, 3, 5, 7, 12, 200]\n",
    "print(len(lst2))\n",
    "print(sorted(lst2))\n",
    "print(min(lst2))\n",
    "print(max(lst2))\n",
    "print(sum(lst2))\n",
    "lst2.append(\"cat\")\n",
    "print(lst2)\n",
    "print(lst.extend(lst2))\n",
    "print(lst)\n",
    "print(lst.copy())\n",
    "print(lst.copy())\n",
    "print(lst.copy())\n",
    "print(lst.copy())\n",
    "print(lst.count(\"Apples\"))\n",
    "print(lst.count(1))\n",
    "print(lst.reverse())\n",
    "print(lst.pop())\n",
    "print(lst.remove(\"Apples\"))  # removes first instance of the required list\n",
    "print(lst)\n",
    "nums = [1, 2, 4, 5]\n"
   ]
  },
  {
   "cell_type": "markdown",
   "metadata": {},
   "source": [
    "Create a list from a loop\n"
   ]
  },
  {
   "cell_type": "code",
   "execution_count": null,
   "metadata": {},
   "outputs": [],
   "source": [
    "nm = [x**2 for x in range(5)]\n",
    "print(nm)\n"
   ]
  },
  {
   "cell_type": "code",
   "execution_count": null,
   "metadata": {},
   "outputs": [],
   "source": [
    "tetx1 = 'the cat has no tail'\n",
    "mySplit = tetx1.split('.')\n",
    "print(mySplit)\n"
   ]
  },
  {
   "cell_type": "markdown",
   "metadata": {},
   "source": [
    "Change a name to a list\n"
   ]
  },
  {
   "cell_type": "code",
   "execution_count": null,
   "metadata": {},
   "outputs": [],
   "source": [
    "a = 'Apple'\n",
    "newLst = list(a)\n",
    "print(newLst)  # review this more\n"
   ]
  },
  {
   "cell_type": "markdown",
   "metadata": {},
   "source": [
    "Delete an item from the List\n"
   ]
  },
  {
   "cell_type": "code",
   "execution_count": null,
   "metadata": {},
   "outputs": [],
   "source": [
    "ls1 = [\"a\", \"b\", \"c\"]\n",
    "del ls1[1]\n",
    "print(ls1)\n"
   ]
  },
  {
   "cell_type": "code",
   "execution_count": 2,
   "metadata": {},
   "outputs": [
    {
     "name": "stdout",
     "output_type": "stream",
     "text": [
      "['cat', 3, 2, 1]\n"
     ]
    },
    {
     "data": {
      "text/plain": [
       "['cat', 3, 2, 1]"
      ]
     },
     "execution_count": 2,
     "metadata": {},
     "output_type": "execute_result"
    }
   ],
   "source": [
    "ls = [1, 2, 3, \"cat\"]\n",
    "ls.reverse()\n",
    "print(ls)\n",
    "['cat', 3, 2, 1]\n"
   ]
  },
  {
   "cell_type": "markdown",
   "metadata": {},
   "source": [
    "# Tuple\n"
   ]
  },
  {
   "cell_type": "markdown",
   "metadata": {},
   "source": [
    "Tuple is an ordered list.\n"
   ]
  },
  {
   "cell_type": "code",
   "execution_count": 5,
   "metadata": {},
   "outputs": [
    {
     "data": {
      "text/plain": [
       "tuple"
      ]
     },
     "execution_count": 5,
     "metadata": {},
     "output_type": "execute_result"
    }
   ],
   "source": [
    "now = (1, 2, 3, \"cat\",2)\n",
    "now.index(2)\n",
    "now.count(2)\n",
    "type(now)"
   ]
  }
 ],
 "metadata": {
  "interpreter": {
   "hash": "e7370f93d1d0cde622a1f8e1c04877d8463912d04d973331ad4851f04de6915a"
  },
  "kernelspec": {
   "display_name": "Python 3.8.10 64-bit",
   "language": "python",
   "name": "python3"
  },
  "language_info": {
   "codemirror_mode": {
    "name": "ipython",
    "version": 3
   },
   "file_extension": ".py",
   "mimetype": "text/x-python",
   "name": "python",
   "nbconvert_exporter": "python",
   "pygments_lexer": "ipython3",
   "version": "3.8.10"
  },
  "orig_nbformat": 4
 },
 "nbformat": 4,
 "nbformat_minor": 2
}
